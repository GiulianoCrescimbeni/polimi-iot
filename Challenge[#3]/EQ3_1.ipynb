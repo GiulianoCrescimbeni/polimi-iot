{
  "cells": [
    {
      "cell_type": "markdown",
      "metadata": {
        "id": "iMM8RhIsqgd-"
      },
      "source": [
        "## **Setup the environment**"
      ]
    },
    {
      "cell_type": "code",
      "execution_count": null,
      "metadata": {
        "colab": {
          "base_uri": "https://localhost:8080/",
          "height": 1000
        },
        "id": "UW-aN-jnqWJH",
        "outputId": "fc6342b5-bd7a-4e5c-ccf2-dc7ddc9de75d"
      },
      "outputs": [
        {
          "output_type": "stream",
          "name": "stdout",
          "text": [
            "--2025-04-27 08:29:41--  https://www.lancaster.ac.uk/scc/sites/lora/lorasim-20170710.tgz\n",
            "Resolving www.lancaster.ac.uk (www.lancaster.ac.uk)... 148.88.65.80, 2001:630:80:2ff::80:1\n",
            "Connecting to www.lancaster.ac.uk (www.lancaster.ac.uk)|148.88.65.80|:443... connected.\n",
            "HTTP request sent, awaiting response... 200 OK\n",
            "Length: 112640 (110K) [application/x-gzip]\n",
            "Saving to: ‘lorasim-20170710.tgz’\n",
            "\n",
            "lorasim-20170710.tg 100%[===================>] 110.00K   411KB/s    in 0.3s    \n",
            "\n",
            "2025-04-27 08:29:42 (411 KB/s) - ‘lorasim-20170710.tgz’ saved [112640/112640]\n",
            "\n",
            "lorasim/\n",
            "lorasim/loraDir.py\n",
            "lorasim/loraDirMulBS.py\n",
            "lorasim/oneDirectionalLoraIntf.py\n",
            "lorasim/requirements.txt\n",
            "lorasim/directionalLoraIntf.py\n",
            "Reading package lists... Done\n",
            "Building dependency tree... Done\n",
            "Reading state information... Done\n",
            "The following additional packages will be installed:\n",
            "  libpython2-stdlib libpython2.7-minimal libpython2.7-stdlib python2-minimal\n",
            "  python2.7 python2.7-minimal\n",
            "Suggested packages:\n",
            "  python2-doc python-tk python2.7-doc binfmt-support\n",
            "The following NEW packages will be installed:\n",
            "  libpython2-stdlib libpython2.7-minimal libpython2.7-stdlib python2\n",
            "  python2-minimal python2.7 python2.7-minimal\n",
            "0 upgraded, 7 newly installed, 0 to remove and 34 not upgraded.\n",
            "Need to get 4,012 kB of archives.\n",
            "After this operation, 16.2 MB of additional disk space will be used.\n",
            "Get:1 http://archive.ubuntu.com/ubuntu jammy-updates/universe amd64 libpython2.7-minimal amd64 2.7.18-13ubuntu1.5 [347 kB]\n",
            "Get:2 http://archive.ubuntu.com/ubuntu jammy-updates/universe amd64 python2.7-minimal amd64 2.7.18-13ubuntu1.5 [1,400 kB]\n",
            "Get:3 http://archive.ubuntu.com/ubuntu jammy/universe amd64 python2-minimal amd64 2.7.18-3 [20.8 kB]\n",
            "Get:4 http://archive.ubuntu.com/ubuntu jammy-updates/universe amd64 libpython2.7-stdlib amd64 2.7.18-13ubuntu1.5 [1,977 kB]\n",
            "Get:5 http://archive.ubuntu.com/ubuntu jammy-updates/universe amd64 python2.7 amd64 2.7.18-13ubuntu1.5 [250 kB]\n",
            "Get:6 http://archive.ubuntu.com/ubuntu jammy/universe amd64 libpython2-stdlib amd64 2.7.18-3 [7,432 B]\n",
            "Get:7 http://archive.ubuntu.com/ubuntu jammy/universe amd64 python2 amd64 2.7.18-3 [9,098 B]\n",
            "Fetched 4,012 kB in 1s (3,021 kB/s)\n",
            "debconf: unable to initialize frontend: Dialog\n",
            "debconf: (No usable dialog-like program is installed, so the dialog based frontend cannot be used. at /usr/share/perl5/Debconf/FrontEnd/Dialog.pm line 78, <> line 7.)\n",
            "debconf: falling back to frontend: Readline\n",
            "debconf: unable to initialize frontend: Readline\n",
            "debconf: (This frontend requires a controlling tty.)\n",
            "debconf: falling back to frontend: Teletype\n",
            "dpkg-preconfigure: unable to re-open stdin: \n",
            "Selecting previously unselected package libpython2.7-minimal:amd64.\n",
            "(Reading database ... 126333 files and directories currently installed.)\n",
            "Preparing to unpack .../0-libpython2.7-minimal_2.7.18-13ubuntu1.5_amd64.deb ...\n",
            "Unpacking libpython2.7-minimal:amd64 (2.7.18-13ubuntu1.5) ...\n",
            "Selecting previously unselected package python2.7-minimal.\n",
            "Preparing to unpack .../1-python2.7-minimal_2.7.18-13ubuntu1.5_amd64.deb ...\n",
            "Unpacking python2.7-minimal (2.7.18-13ubuntu1.5) ...\n",
            "Selecting previously unselected package python2-minimal.\n",
            "Preparing to unpack .../2-python2-minimal_2.7.18-3_amd64.deb ...\n",
            "Unpacking python2-minimal (2.7.18-3) ...\n",
            "Selecting previously unselected package libpython2.7-stdlib:amd64.\n",
            "Preparing to unpack .../3-libpython2.7-stdlib_2.7.18-13ubuntu1.5_amd64.deb ...\n",
            "Unpacking libpython2.7-stdlib:amd64 (2.7.18-13ubuntu1.5) ...\n",
            "Selecting previously unselected package python2.7.\n",
            "Preparing to unpack .../4-python2.7_2.7.18-13ubuntu1.5_amd64.deb ...\n",
            "Unpacking python2.7 (2.7.18-13ubuntu1.5) ...\n",
            "Selecting previously unselected package libpython2-stdlib:amd64.\n",
            "Preparing to unpack .../5-libpython2-stdlib_2.7.18-3_amd64.deb ...\n",
            "Unpacking libpython2-stdlib:amd64 (2.7.18-3) ...\n",
            "Setting up libpython2.7-minimal:amd64 (2.7.18-13ubuntu1.5) ...\n",
            "Setting up python2.7-minimal (2.7.18-13ubuntu1.5) ...\n",
            "Linking and byte-compiling packages for runtime python2.7...\n",
            "Setting up python2-minimal (2.7.18-3) ...\n",
            "Selecting previously unselected package python2.\n",
            "(Reading database ... 127076 files and directories currently installed.)\n",
            "Preparing to unpack .../python2_2.7.18-3_amd64.deb ...\n",
            "Unpacking python2 (2.7.18-3) ...\n",
            "Setting up libpython2.7-stdlib:amd64 (2.7.18-13ubuntu1.5) ...\n",
            "Setting up python2.7 (2.7.18-13ubuntu1.5) ...\n",
            "Setting up libpython2-stdlib:amd64 (2.7.18-3) ...\n",
            "Setting up python2 (2.7.18-3) ...\n",
            "Processing triggers for man-db (2.10.2-1) ...\n",
            "Processing triggers for mailcap (3.70+nmu1ubuntu1) ...\n",
            "  % Total    % Received % Xferd  Average Speed   Time    Time     Time  Current\n",
            "                                 Dload  Upload   Total   Spent    Left  Speed\n",
            "100 1863k  100 1863k    0     0  4411k      0 --:--:-- --:--:-- --:--:-- 4415k\n",
            "Collecting pip<21.0\n",
            "  Downloading pip-20.3.4-py2.py3-none-any.whl (1.5 MB)\n",
            "\u001b[K     |████████████████████████████████| 1.5 MB 3.1 MB/s \n",
            "\u001b[?25hCollecting setuptools<45\n",
            "  Downloading setuptools-44.1.1-py2.py3-none-any.whl (583 kB)\n",
            "\u001b[K     |████████████████████████████████| 583 kB 20.5 MB/s \n",
            "\u001b[?25hCollecting wheel\n",
            "  Downloading wheel-0.37.1-py2.py3-none-any.whl (35 kB)\n",
            "Installing collected packages: pip, setuptools, wheel\n",
            "Successfully installed pip-20.3.4 setuptools-44.1.1 wheel-0.37.1\n",
            "Reading package lists... Done\n",
            "Building dependency tree... Done\n",
            "Reading state information... Done\n",
            "Suggested packages:\n",
            "  tix python-tk-dbg\n",
            "The following NEW packages will be installed:\n",
            "  python-tk\n",
            "0 upgraded, 1 newly installed, 0 to remove and 34 not upgraded.\n",
            "Need to get 25.4 kB of archives.\n",
            "After this operation, 109 kB of additional disk space will be used.\n",
            "Get:1 http://archive.ubuntu.com/ubuntu jammy/universe amd64 python-tk amd64 2.7.18-1build1 [25.4 kB]\n",
            "Fetched 25.4 kB in 0s (176 kB/s)\n",
            "debconf: unable to initialize frontend: Dialog\n",
            "debconf: (No usable dialog-like program is installed, so the dialog based frontend cannot be used. at /usr/share/perl5/Debconf/FrontEnd/Dialog.pm line 78, <> line 1.)\n",
            "debconf: falling back to frontend: Readline\n",
            "debconf: unable to initialize frontend: Readline\n",
            "debconf: (This frontend requires a controlling tty.)\n",
            "debconf: falling back to frontend: Teletype\n",
            "dpkg-preconfigure: unable to re-open stdin: \n",
            "Selecting previously unselected package python-tk.\n",
            "(Reading database ... 127093 files and directories currently installed.)\n",
            "Preparing to unpack .../python-tk_2.7.18-1build1_amd64.deb ...\n",
            "Unpacking python-tk (2.7.18-1build1) ...\n",
            "Setting up python-tk (2.7.18-1build1) ...\n",
            "Collecting numpy==1.11.1\n",
            "  Downloading numpy-1.11.1-cp27-cp27mu-manylinux1_x86_64.whl (15.3 MB)\n",
            "\u001b[K     |████████████████████████████████| 15.3 MB 2.8 MB/s \n",
            "\u001b[?25hCollecting simpy==3.0.10\n",
            "  Downloading simpy-3.0.10-py2.py3-none-any.whl (31 kB)\n",
            "Collecting matplotlib==2.0.0\n",
            "  Downloading matplotlib-2.0.0-1-cp27-cp27mu-manylinux1_x86_64.whl (14.6 MB)\n",
            "\u001b[K     |████████████████████████████████| 14.6 MB 45.6 MB/s \n",
            "\u001b[?25hCollecting six>=1.10\n",
            "  Downloading six-1.17.0-py2.py3-none-any.whl (11 kB)\n",
            "Collecting python-dateutil\n",
            "  Downloading python_dateutil-2.9.0.post0-py2.py3-none-any.whl (229 kB)\n",
            "\u001b[K     |████████████████████████████████| 229 kB 53.8 MB/s \n",
            "\u001b[?25hCollecting pytz\n",
            "  Downloading pytz-2025.2-py2.py3-none-any.whl (509 kB)\n",
            "\u001b[K     |████████████████████████████████| 509 kB 60.1 MB/s \n",
            "\u001b[?25hCollecting functools32\n",
            "  Downloading functools32-3.2.3-2.tar.gz (31 kB)\n",
            "Collecting cycler>=0.10\n",
            "  Downloading cycler-0.10.0-py2.py3-none-any.whl (6.5 kB)\n",
            "Collecting pyparsing!=2.0.0,!=2.0.4,!=2.1.2,!=2.1.6,>=1.5.6\n",
            "  Downloading pyparsing-2.4.7-py2.py3-none-any.whl (67 kB)\n",
            "\u001b[K     |████████████████████████████████| 67 kB 5.4 MB/s \n",
            "\u001b[?25hCollecting subprocess32\n",
            "  Downloading subprocess32-3.5.4-cp27-cp27mu-manylinux2014_x86_64.whl (69 kB)\n",
            "\u001b[K     |████████████████████████████████| 69 kB 7.3 MB/s \n",
            "\u001b[?25hBuilding wheels for collected packages: functools32\n",
            "  Building wheel for functools32 (setup.py) ... \u001b[?25l\u001b[?25hdone\n",
            "  Created wheel for functools32: filename=functools32-3.2.3.post2-py2-none-any.whl size=14555 sha256=71e1aa50198d4bce493305952197371c1ea3da6f7cb7bc0bafaf707bcf2a1670\n",
            "  Stored in directory: /root/.cache/pip/wheels/c2/ea/a3/25af52265fad6418a74df0b8d9ca8b89e0b3735dbd4d0d3794\n",
            "Successfully built functools32\n",
            "Installing collected packages: numpy, simpy, six, python-dateutil, pytz, functools32, cycler, pyparsing, subprocess32, matplotlib\n",
            "Successfully installed cycler-0.10.0 functools32-3.2.3.post2 matplotlib-2.0.0 numpy-1.11.1 pyparsing-2.4.7 python-dateutil-2.9.0.post0 pytz-2025.2 simpy-3.0.10 six-1.17.0 subprocess32-3.5.4\n"
          ]
        },
        {
          "output_type": "display_data",
          "data": {
            "application/vnd.colab-display-data+json": {
              "pip_warning": {
                "packages": [
                  "pyparsing",
                  "six"
                ]
              },
              "id": "792e01f7041c48e8b07f313b0e8f0e53"
            }
          },
          "metadata": {}
        }
      ],
      "source": [
        "! wget https://www.lancaster.ac.uk/scc/sites/lora/lorasim-20170710.tgz\n",
        "! tar -xvf lorasim-20170710.tgz\n",
        "\n",
        "!sudo apt-get install python2 && curl https://bootstrap.pypa.io/pip/2.7/get-pip.py -o get-pip.py && python2 get-pip.py && rm get-pip.py\n",
        "!sudo apt install python-tk\n",
        "!pip2 install -r 'lorasim/requirements.txt'\n"
      ]
    },
    {
      "cell_type": "markdown",
      "metadata": {
        "id": "_Gov4P-bsjed"
      },
      "source": [
        "### **Import libraries**"
      ]
    },
    {
      "cell_type": "code",
      "execution_count": null,
      "metadata": {
        "id": "ZPwQ7hUhLpGP"
      },
      "outputs": [],
      "source": [
        "import os\n",
        "import pandas as pd\n",
        "import math"
      ]
    },
    {
      "cell_type": "markdown",
      "metadata": {
        "id": "zDRee-5VsrGU"
      },
      "source": [
        "### **Execute simulations**"
      ]
    },
    {
      "cell_type": "code",
      "execution_count": null,
      "metadata": {
        "id": "Je8pEuyNOSv9"
      },
      "outputs": [],
      "source": [
        "import subprocess\n",
        "\n",
        "def simulate(n_nodes, tx_rate, exp, duration):\n",
        "    env = os.environ.copy()\n",
        "    env[\"MPLBACKEND\"] = \"Agg\"\n",
        "\n",
        "    # Use subprocess.run to execute the command and capture output\n",
        "    result = subprocess.run(\n",
        "        [\n",
        "            \"python2\",\n",
        "            \"lorasim/loraDir.py\",\n",
        "            str(int(n_nodes)),\n",
        "            str(int(tx_rate)),\n",
        "            str(int(exp)),\n",
        "            str(int(duration)),\n",
        "            str(int(1)),\n",
        "        ],\n",
        "        env=env,\n",
        "        capture_output=True,\n",
        "        text=True,  # Capture output as text\n",
        "    )\n",
        "\n",
        "    # Print the output\n",
        "    # print(result.stdout)\n",
        "    # print(result.stderr)\n",
        "\n",
        "# Der in aloha defined as S/G = e^(-2G)\n",
        "def aloha_der(n_nodes,t):\n",
        "    rate = 1e-6\n",
        "    return math.exp(-2 * n_nodes * rate * t)\n"
      ]
    },
    {
      "cell_type": "code",
      "execution_count": null,
      "metadata": {
        "colab": {
          "base_uri": "https://localhost:8080/"
        },
        "id": "7DHtjLhf2fxP",
        "outputId": "05f575e7-0464-4cae-a3ef-41e677395448"
      },
      "outputs": [
        {
          "output_type": "stream",
          "name": "stdout",
          "text": [
            "Simulating 1 nodes\n",
            "Simulating 2 nodes\n",
            "Simulating 3 nodes\n",
            "Simulating 4 nodes\n",
            "Simulating 5 nodes\n",
            "Simulating 6 nodes\n",
            "Simulating 7 nodes\n",
            "Simulating 8 nodes\n",
            "Simulating 9 nodes\n",
            "Simulating 10 nodes\n",
            "Simulating 20 nodes\n",
            "Simulating 30 nodes\n",
            "Simulating 40 nodes\n",
            "Simulating 50 nodes\n",
            "Simulating 60 nodes\n",
            "Simulating 70 nodes\n",
            "Simulating 80 nodes\n",
            "Simulating 90 nodes\n",
            "Simulating 100 nodes\n",
            "Simulating 110 nodes\n",
            "Simulating 120 nodes\n",
            "Simulating 130 nodes\n",
            "Simulating 140 nodes\n",
            "Simulating 150 nodes\n",
            "Simulating 160 nodes\n",
            "Simulating 170 nodes\n",
            "Simulating 180 nodes\n",
            "Simulating 190 nodes\n",
            "Simulating 200 nodes\n",
            "Simulating 210 nodes\n",
            "Simulating 220 nodes\n",
            "Simulating 230 nodes\n",
            "Simulating 240 nodes\n",
            "Simulating 250 nodes\n",
            "Simulating 260 nodes\n",
            "Simulating 270 nodes\n",
            "Simulating 280 nodes\n",
            "Simulating 290 nodes\n",
            "Simulating 300 nodes\n",
            "Simulating 400 nodes\n",
            "Simulating 500 nodes\n",
            "Simulating 600 nodes\n",
            "Simulating 700 nodes\n",
            "Simulating 800 nodes\n",
            "Simulating 900 nodes\n",
            "Simulating 1000 nodes\n",
            "Simulating 1100 nodes\n",
            "Simulating 1200 nodes\n",
            "Simulating 1300 nodes\n",
            "Simulating 1400 nodes\n",
            "Simulating 1500 nodes\n",
            "Simulating 1600 nodes\n"
          ]
        }
      ],
      "source": [
        "duration = 86400000\n",
        "tx_rate = 1e6\n",
        "\n",
        "for n_nodes in list(range(1,10)) + list(range(10,300,10)) + list(range(300,1700,100)):\n",
        "  print(f\"Simulating {n_nodes} nodes\")\n",
        "  simulate(n_nodes, tx_rate, 4, duration)\n",
        "  simulate(n_nodes, tx_rate, 3, duration)\n",
        "  simulate(n_nodes, tx_rate, 5, duration)\n"
      ]
    },
    {
      "cell_type": "code",
      "execution_count": null,
      "metadata": {
        "id": "Uf3o7Vsv3qje"
      },
      "outputs": [],
      "source": [
        "data1 = pd.read_csv(\"exp4.dat\", sep=\" \")\n",
        "data2 = pd.read_csv(\"exp3.dat\", sep=\" \")\n",
        "data3 = pd.read_csv(\"exp5.dat\", sep=\" \")\n"
      ]
    },
    {
      "cell_type": "code",
      "execution_count": null,
      "metadata": {
        "id": "9o7RWu3A4dJS"
      },
      "outputs": [],
      "source": [
        "\n",
        "data1[\"der\"] = (data1[\"nrTransmissions\"] - data1[\"nrCollisions\"]) / data1[\"nrTransmissions\"]\n",
        "data2[\"der\"] = (data2[\"nrTransmissions\"] - data2[\"nrCollisions\"]) / data2[\"nrTransmissions\"]\n",
        "data3[\"der\"] = (data3[\"nrTransmissions\"] - data3[\"nrCollisions\"]) / data3[\"nrTransmissions\"]"
      ]
    },
    {
      "cell_type": "code",
      "execution_count": null,
      "metadata": {
        "colab": {
          "base_uri": "https://localhost:8080/",
          "height": 472
        },
        "id": "82AP10M64MiZ",
        "outputId": "28506eb3-eda1-4712-f85e-0c99c5746e3d"
      },
      "outputs": [
        {
          "output_type": "display_data",
          "data": {
            "text/plain": [
              "<Figure size 640x480 with 1 Axes>"
            ],
            "image/png": "[encoded data removed]"
          },
          "metadata": {}
        }
      ],
      "source": [
        "import matplotlib\n",
        "import matplotlib.pyplot as plt\n",
        "\n",
        "\n",
        "plt.plot(data1[\"#nrNodes\"], data1[\"der\"], label=\"SN3\")\n",
        "plt.plot(data2[\"#nrNodes\"], data2[\"der\"], label=\"SN4\")\n",
        "plt.plot(data3[\"#nrNodes\"], data3[\"der\"], label=\"SN5\")\n",
        "plt.title(\"Success Rate (%)\")\n",
        "plt.xlabel(\"Number of nodes\")\n",
        "plt.ylabel(\"Rate\")\n",
        "plt.legend()\n",
        "plt.grid()\n",
        "plt.show()"
      ]
    }
  ],
  "metadata": {
    "colab": {
      "provenance": []
    },
    "kernelspec": {
      "display_name": "Python 3",
      "name": "python3"
    },
    "language_info": {
      "name": "python"
    }
  },
  "nbformat": 4,
  "nbformat_minor": 0
}