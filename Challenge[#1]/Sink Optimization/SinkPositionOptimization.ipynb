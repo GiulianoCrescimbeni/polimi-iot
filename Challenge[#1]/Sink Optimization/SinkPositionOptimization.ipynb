{
  "nbformat": 4,
  "nbformat_minor": 0,
  "metadata": {
    "colab": {
      "provenance": []
    },
    "kernelspec": {
      "name": "python3",
      "display_name": "Python 3"
    },
    "language_info": {
      "name": "python"
    }
  },
  "cells": [
    {
      "cell_type": "markdown",
      "source": [
        "Initial setup for data and nodes"
      ],
      "metadata": {
        "id": "N9cSIZ5JcAXQ"
      }
    },
    {
      "cell_type": "code",
      "execution_count": 45,
      "metadata": {
        "id": "IFiz5jB2XKWa"
      },
      "outputs": [],
      "source": [
        "sensors = [(1,2), (10,3), (4,8), (15,7), (6,1), (9,12), (14,4), (3,10), (7,7), (12,14)]\n",
        "packet_size = 2000 #[bit]\n",
        "energy_base = 5 #[mJ]\n",
        "circuit_energy = 50 #[nJ/bit]\n",
        "k = 1 #[nJ/bit/m^2]"
      ]
    },
    {
      "cell_type": "markdown",
      "source": [
        "Function to calculate the euclidean distance beetween point 1 and point 2"
      ],
      "metadata": {
        "id": "Jm6wBmntcMZW"
      }
    },
    {
      "cell_type": "code",
      "source": [
        "import math\n",
        "\n",
        "def distance(point1, point2):\n",
        "  \"\"\"Calculates the Euclidean distance between two points in 2D space.\n",
        "\n",
        "  Args:\n",
        "    point1: A tuple representing the coordinates of the first point (x, y).\n",
        "    point2: A tuple representing the coordinates of the second point (x, y).\n",
        "\n",
        "  Returns:\n",
        "    The Euclidean distance between the two points.\n",
        "  \"\"\"\n",
        "  return math.sqrt((point1[0] - point2[0])**2 + (point1[1] - point2[1])**2)"
      ],
      "metadata": {
        "id": "SePVmmndYWbG"
      },
      "execution_count": 46,
      "outputs": []
    },
    {
      "cell_type": "markdown",
      "source": [
        "Function to calculate the energy consumpion for a sensor position to a sink poin as follows:\n",
        "\n",
        "`E = (circuit_energy * packet_size) + k * (d**2)`"
      ],
      "metadata": {
        "id": "t55tbPRTdNWZ"
      }
    },
    {
      "cell_type": "code",
      "source": [
        "def calculate_energy_consumption(sensor, point):\n",
        "  d = distance(sensor, point)\n",
        "  E = (circuit_energy * packet_size) + k * (d**2) * packet_size\n",
        "  return(E / 100000) # Conversion from nJ to mJ [10^-9 -> 10^-3]"
      ],
      "metadata": {
        "id": "dklldPFocWw3"
      },
      "execution_count": 47,
      "outputs": []
    },
    {
      "cell_type": "markdown",
      "source": [
        "Function to calculate the lifetime for a single node based on its consumption. All nodes sends a packet each 10 minutes (each 600 seconds)"
      ],
      "metadata": {
        "id": "j1Iho1NgeQ-j"
      }
    },
    {
      "cell_type": "code",
      "source": [
        "def calculate_lifetime(consumption):\n",
        "    energy_consumptions_for_1_sec = consumption / 600 #[mJ/s]\n",
        "    total_lifetime = energy_base / energy_consumptions_for_1_sec #[s]\n",
        "    return(total_lifetime)"
      ],
      "metadata": {
        "id": "jWmCLK4RbjVr"
      },
      "execution_count": 48,
      "outputs": []
    },
    {
      "cell_type": "markdown",
      "source": [
        "Calculate point 1 of the exercise:"
      ],
      "metadata": {
        "id": "A5FL6xLserpn"
      }
    },
    {
      "cell_type": "code",
      "source": [
        "energy_consumptions = []\n",
        "lifetimes = []\n",
        "\n",
        "for sensor in sensors:\n",
        "  energy_consumptions.append(calculate_energy_consumption(sensor, (20,20)))\n",
        "\n",
        "for consumption in energy_consumptions:\n",
        "  lifetimes.append(calculate_lifetime(consumption))\n",
        "\n",
        "print(lifetimes)\n",
        "print(\"The minimum lifetime is: \" + str(min(lifetimes)) + \" s\")\n"
      ],
      "metadata": {
        "colab": {
          "base_uri": "https://localhost:8080/"
        },
        "id": "oIca3uOXaFQ2",
        "outputId": "98774b64-e372-497e-cf0c-f834f6e8f6cf"
      },
      "execution_count": 49,
      "outputs": [
        {
          "output_type": "stream",
          "name": "stdout",
          "text": [
            "[204.08163265306123, 341.68564920273343, 333.33333333333337, 614.7540983606558, 247.11696869851727, 638.2978723404256, 438.59649122807025, 341.68564920273343, 386.59793814432993, 1000.0]\n",
            "The minimum lifetime is: 204.08163265306123 s\n"
          ]
        }
      ]
    },
    {
      "cell_type": "markdown",
      "source": [
        "Calculate the best sink position by trying each position in the grid"
      ],
      "metadata": {
        "id": "cXLuitkSfj19"
      }
    },
    {
      "cell_type": "code",
      "source": [
        "def find_best_sink_position(grid_size=21):\n",
        "    best_position = (0, 0)\n",
        "    max_min_lifetime = 0\n",
        "\n",
        "    for x in range(grid_size):\n",
        "        for y in range(grid_size):\n",
        "            sink_position = (x, y)\n",
        "            lifetimes = []\n",
        "            for sensor in sensors:\n",
        "                energy_consumption = calculate_energy_consumption(sensor, sink_position)\n",
        "                lifetimes.append(calculate_lifetime(energy_consumption))\n",
        "            min_lifetime = min(lifetimes)\n",
        "\n",
        "            if min_lifetime > max_min_lifetime:\n",
        "                max_min_lifetime = min_lifetime\n",
        "                best_position = sink_position\n",
        "\n",
        "    return best_position, max_min_lifetime\n",
        "\n",
        "best_sink, max_lifetime = find_best_sink_position()\n",
        "print(f\"The best sink position is: {best_sink}\")\n",
        "print(f\"The maximum minimum lifetime at this position is: {max_lifetime} s\")\n"
      ],
      "metadata": {
        "colab": {
          "base_uri": "https://localhost:8080/"
        },
        "id": "s_9_ulUqfF7K",
        "outputId": "95aa9315-4301-480e-f76f-06a9f8420e8e"
      },
      "execution_count": 50,
      "outputs": [
        {
          "output_type": "stream",
          "name": "stdout",
          "text": [
            "The best sink position is: (7, 8)\n",
            "The maximum minimum lifetime at this position is: 1229.5081967213118 s\n"
          ]
        }
      ]
    }
  ]
}